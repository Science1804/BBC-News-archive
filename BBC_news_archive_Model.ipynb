{
  "nbformat": 4,
  "nbformat_minor": 0,
  "metadata": {
    "colab": {
      "name": "BBC news archive Model.ipynb",
      "provenance": []
    },
    "kernelspec": {
      "name": "python3",
      "display_name": "Python 3"
    }
  },
  "cells": [
    {
      "cell_type": "code",
      "metadata": {
        "id": "e_UxnPJ5Ka9O",
        "colab_type": "code",
        "colab": {
          "base_uri": "https://localhost:8080/",
          "height": 202
        },
        "outputId": "227fce1f-c19f-4abc-f2d7-757bfc944d4c"
      },
      "source": [
        "!wget --no-check-certificate \\\n",
        "    https://storage.googleapis.com/laurencemoroney-blog.appspot.com/bbc-text.csv -O bbc-text.csv"
      ],
      "execution_count": 2,
      "outputs": [
        {
          "output_type": "stream",
          "text": [
            "--2020-07-08 19:30:41--  https://storage.googleapis.com/laurencemoroney-blog.appspot.com/bbc-text.csv\n",
            "Resolving storage.googleapis.com (storage.googleapis.com)... 173.194.216.128, 172.217.204.128, 172.217.203.128, ...\n",
            "Connecting to storage.googleapis.com (storage.googleapis.com)|173.194.216.128|:443... connected.\n",
            "HTTP request sent, awaiting response... 200 OK\n",
            "Length: 5057493 (4.8M) [application/octet-stream]\n",
            "Saving to: ‘bbc-text.csv’\n",
            "\n",
            "\rbbc-text.csv          0%[                    ]       0  --.-KB/s               \rbbc-text.csv        100%[===================>]   4.82M  --.-KB/s    in 0.05s   \n",
            "\n",
            "2020-07-08 19:30:41 (106 MB/s) - ‘bbc-text.csv’ saved [5057493/5057493]\n",
            "\n"
          ],
          "name": "stdout"
        }
      ]
    },
    {
      "cell_type": "code",
      "metadata": {
        "id": "zDQEjzQwPdAf",
        "colab_type": "code",
        "colab": {}
      },
      "source": [
        "import csv\n",
        "from tensorflow.keras.preprocessing.text import Tokenizer\n",
        "from tensorflow.keras.preprocessing.sequence import pad_sequences"
      ],
      "execution_count": 3,
      "outputs": []
    },
    {
      "cell_type": "code",
      "metadata": {
        "id": "JUTGS2qYPrlV",
        "colab_type": "code",
        "colab": {}
      },
      "source": [
        "sentences = []\n",
        "labels = []\n",
        "stopwords =  [ \"a\", \"about\", \"above\", \"after\", \"again\", \"against\", \"all\", \"am\", \"an\", \"and\", \"any\", \"are\", \"as\", \"at\", \"be\", \"because\", \"been\", \"before\", \"being\", \"below\", \"between\", \"both\", \"but\", \"by\", \"could\", \"did\", \"do\", \"does\", \"doing\", \"down\", \"during\", \"each\", \"few\", \"for\", \"from\", \"further\", \"had\", \"has\", \"have\", \"having\", \"he\", \"he'd\", \"he'll\", \"he's\", \"her\", \"here\", \"here's\", \"hers\", \"herself\", \"him\", \"himself\", \"his\", \"how\", \"how's\", \"i\", \"i'd\", \"i'll\", \"i'm\", \"i've\", \"if\", \"in\", \"into\", \"is\", \"it\", \"it's\", \"its\", \"itself\", \"let's\", \"me\", \"more\", \"most\", \"my\", \"myself\", \"nor\", \"of\", \"on\", \"once\", \"only\", \"or\", \"other\", \"ought\", \"our\", \"ours\", \"ourselves\", \"out\", \"over\", \"own\", \"same\", \"she\", \"she'd\", \"she'll\", \"she's\", \"should\", \"so\", \"some\", \"such\", \"than\", \"that\", \"that's\", \"the\", \"their\", \"theirs\", \"them\", \"themselves\", \"then\", \"there\", \"there's\", \"these\", \"they\", \"they'd\", \"they'll\", \"they're\", \"they've\", \"this\", \"those\", \"through\", \"to\", \"too\", \"under\", \"until\", \"up\", \"very\", \"was\", \"we\", \"we'd\", \"we'll\", \"we're\", \"we've\", \"were\", \"what\", \"what's\", \"when\", \"when's\", \"where\", \"where's\", \"which\", \"while\", \"who\", \"who's\", \"whom\", \"why\", \"why's\", \"with\", \"would\", \"you\", \"you'd\", \"you'll\", \"you're\", \"you've\", \"your\", \"yours\", \"yourself\", \"yourselves\" ]"
      ],
      "execution_count": 4,
      "outputs": []
    },
    {
      "cell_type": "code",
      "metadata": {
        "id": "C2VxYuQuYdtn",
        "colab_type": "code",
        "colab": {
          "base_uri": "https://localhost:8080/",
          "height": 34
        },
        "outputId": "90cb0739-386b-4411-e845-14d7d0f6e1ba"
      },
      "source": [
        "import os\n",
        "os.listdir()"
      ],
      "execution_count": 5,
      "outputs": [
        {
          "output_type": "execute_result",
          "data": {
            "text/plain": [
              "['.config', 'bbc-text.csv', 'sample_data']"
            ]
          },
          "metadata": {
            "tags": []
          },
          "execution_count": 5
        }
      ]
    },
    {
      "cell_type": "code",
      "metadata": {
        "id": "WyQPI0tKYtRV",
        "colab_type": "code",
        "colab": {}
      },
      "source": [
        "mycsv = 'bbc-text.csv'"
      ],
      "execution_count": 6,
      "outputs": []
    },
    {
      "cell_type": "code",
      "metadata": {
        "id": "qnjb_jT9YyXV",
        "colab_type": "code",
        "colab": {}
      },
      "source": [
        "import csv"
      ],
      "execution_count": 7,
      "outputs": []
    },
    {
      "cell_type": "code",
      "metadata": {
        "id": "JZYf8RVAYzBd",
        "colab_type": "code",
        "colab": {}
      },
      "source": [
        "with open(mycsv,'r') as f:\n",
        "  reader = csv.reader(f,delimiter=',')\n",
        "  next(reader)\n",
        "  for row in reader:\n",
        "    labels.append(row[0])\n",
        "    sentence = row[0]\n",
        "    for word in stopwords:\n",
        "      token = ' ' + word + ' '\n",
        "      sentence = sentence.replace(token,\" \")\n",
        "      sentence = sentence.replace('  ',' ')\n",
        "    sentences.append(sentence)  "
      ],
      "execution_count": 8,
      "outputs": []
    },
    {
      "cell_type": "code",
      "metadata": {
        "id": "r65BEfgqaYv5",
        "colab_type": "code",
        "colab": {
          "base_uri": "https://localhost:8080/",
          "height": 34
        },
        "outputId": "bc503dea-61ae-44ad-f68d-dbadb0b4d29c"
      },
      "source": [
        "print(len(sentences))"
      ],
      "execution_count": 9,
      "outputs": [
        {
          "output_type": "stream",
          "text": [
            "2225\n"
          ],
          "name": "stdout"
        }
      ]
    },
    {
      "cell_type": "code",
      "metadata": {
        "id": "2EFt0Ko3aa8e",
        "colab_type": "code",
        "colab": {
          "base_uri": "https://localhost:8080/",
          "height": 34
        },
        "outputId": "44913a2c-00b5-4375-943d-3a3be2bb747a"
      },
      "source": [
        "print(len(labels))"
      ],
      "execution_count": 10,
      "outputs": [
        {
          "output_type": "stream",
          "text": [
            "2225\n"
          ],
          "name": "stdout"
        }
      ]
    },
    {
      "cell_type": "code",
      "metadata": {
        "id": "Si2CuI-9adqt",
        "colab_type": "code",
        "colab": {}
      },
      "source": [
        "import tensorflow as tf\n"
      ],
      "execution_count": 11,
      "outputs": []
    },
    {
      "cell_type": "code",
      "metadata": {
        "id": "MJu9n8SFapt9",
        "colab_type": "code",
        "colab": {}
      },
      "source": [
        "tokenizer = Tokenizer(num_words=1000,oov_token='<OOV>')"
      ],
      "execution_count": 12,
      "outputs": []
    },
    {
      "cell_type": "code",
      "metadata": {
        "id": "jxdrK-_FbY4N",
        "colab_type": "code",
        "colab": {}
      },
      "source": [
        "training_partition=0.8"
      ],
      "execution_count": 13,
      "outputs": []
    },
    {
      "cell_type": "code",
      "metadata": {
        "id": "qHnARwQdbhdN",
        "colab_type": "code",
        "colab": {}
      },
      "source": [
        "train_size = int((len(sentences))*training_partition)"
      ],
      "execution_count": 14,
      "outputs": []
    },
    {
      "cell_type": "code",
      "metadata": {
        "id": "IGF8K5Bxbs9E",
        "colab_type": "code",
        "colab": {}
      },
      "source": [
        "train_sentences = sentences[:train_size]\n",
        "test_senteces = sentences[train_size:]\n",
        "train_labels = labels[:train_size]\n",
        "test_labels = labels[train_size:]"
      ],
      "execution_count": 15,
      "outputs": []
    },
    {
      "cell_type": "code",
      "metadata": {
        "id": "idsmbdKVcCL5",
        "colab_type": "code",
        "colab": {}
      },
      "source": [
        "tokenizer.fit_on_texts(train_sentences)\n",
        "word_index = tokenizer.word_index"
      ],
      "execution_count": 16,
      "outputs": []
    },
    {
      "cell_type": "code",
      "metadata": {
        "id": "EYBs-8x7c_ml",
        "colab_type": "code",
        "colab": {}
      },
      "source": [
        "train_sequences = tokenizer.texts_to_sequences(train_sentences)\n",
        "train_padded = pad_sequences(train_sequences,maxlen=120,padding='post',truncating='post')"
      ],
      "execution_count": 17,
      "outputs": []
    },
    {
      "cell_type": "code",
      "metadata": {
        "id": "xSc8915JddFO",
        "colab_type": "code",
        "colab": {}
      },
      "source": [
        "test_sequences = tokenizer.texts_to_sequences(test_senteces)\n",
        "test_padded = pad_sequences(test_sequences,maxlen=120,padding='post',truncating='post')"
      ],
      "execution_count": 18,
      "outputs": []
    },
    {
      "cell_type": "code",
      "metadata": {
        "id": "graFxUQYd2kW",
        "colab_type": "code",
        "colab": {}
      },
      "source": [
        "label_tokenizer = Tokenizer()\n",
        "label_tokenizer.fit_on_texts(labels)"
      ],
      "execution_count": 19,
      "outputs": []
    },
    {
      "cell_type": "code",
      "metadata": {
        "id": "7QeULgv-jXSE",
        "colab_type": "code",
        "colab": {}
      },
      "source": [
        "label_word_index = label_tokenizer.word_index"
      ],
      "execution_count": 20,
      "outputs": []
    },
    {
      "cell_type": "code",
      "metadata": {
        "id": "VhrACa7qjcGo",
        "colab_type": "code",
        "colab": {
          "base_uri": "https://localhost:8080/",
          "height": 34
        },
        "outputId": "f018e507-c671-4e4c-d99a-dc3095a3b8da"
      },
      "source": [
        "label_word_index"
      ],
      "execution_count": 21,
      "outputs": [
        {
          "output_type": "execute_result",
          "data": {
            "text/plain": [
              "{'business': 2, 'entertainment': 5, 'politics': 3, 'sport': 1, 'tech': 4}"
            ]
          },
          "metadata": {
            "tags": []
          },
          "execution_count": 21
        }
      ]
    },
    {
      "cell_type": "code",
      "metadata": {
        "id": "U4_w7ewEihLJ",
        "colab_type": "code",
        "colab": {}
      },
      "source": [
        "import numpy as np"
      ],
      "execution_count": 22,
      "outputs": []
    },
    {
      "cell_type": "code",
      "metadata": {
        "id": "IrKJN4BPfkWF",
        "colab_type": "code",
        "colab": {}
      },
      "source": [
        "train_label_seq = np.array(label_tokenizer.texts_to_sequences(train_labels))\n",
        "test_label_seq = np.array(label_tokenizer.texts_to_sequences(test_labels))"
      ],
      "execution_count": 23,
      "outputs": []
    },
    {
      "cell_type": "code",
      "metadata": {
        "id": "WkSNRyaEiZ0D",
        "colab_type": "code",
        "colab": {}
      },
      "source": [
        "model = tf.keras.models.Sequential([\n",
        "                                    tf.keras.layers.Embedding(input_dim=1000,output_dim=32,input_length=120),\n",
        "                                    tf.keras.layers.GlobalAveragePooling1D(),\n",
        "                                    tf.keras.layers.Dense(24,activation='relu'),\n",
        "                                    tf.keras.layers.Dense(12,activation='relu'),\n",
        "                                    tf.keras.layers.Dense(6,activation='softmax')\n",
        "])"
      ],
      "execution_count": 24,
      "outputs": []
    },
    {
      "cell_type": "code",
      "metadata": {
        "id": "Xa4jBJ7qjur1",
        "colab_type": "code",
        "colab": {
          "base_uri": "https://localhost:8080/",
          "height": 319
        },
        "outputId": "e265a573-e584-4c97-888c-813ac2954585"
      },
      "source": [
        "model.summary()"
      ],
      "execution_count": 25,
      "outputs": [
        {
          "output_type": "stream",
          "text": [
            "Model: \"sequential\"\n",
            "_________________________________________________________________\n",
            "Layer (type)                 Output Shape              Param #   \n",
            "=================================================================\n",
            "embedding (Embedding)        (None, 120, 32)           32000     \n",
            "_________________________________________________________________\n",
            "global_average_pooling1d (Gl (None, 32)                0         \n",
            "_________________________________________________________________\n",
            "dense (Dense)                (None, 24)                792       \n",
            "_________________________________________________________________\n",
            "dense_1 (Dense)              (None, 12)                300       \n",
            "_________________________________________________________________\n",
            "dense_2 (Dense)              (None, 6)                 78        \n",
            "=================================================================\n",
            "Total params: 33,170\n",
            "Trainable params: 33,170\n",
            "Non-trainable params: 0\n",
            "_________________________________________________________________\n"
          ],
          "name": "stdout"
        }
      ]
    },
    {
      "cell_type": "code",
      "metadata": {
        "id": "DZE-COeZjwas",
        "colab_type": "code",
        "colab": {}
      },
      "source": [
        "model.compile(loss='sparse_categorical_crossentropy',optimizer='adam',metrics=['accuracy'])"
      ],
      "execution_count": 26,
      "outputs": []
    },
    {
      "cell_type": "code",
      "metadata": {
        "id": "l8gvcnzw2kJ5",
        "colab_type": "code",
        "colab": {}
      },
      "source": [
        "tf.keras.backend.clear_session()"
      ],
      "execution_count": 27,
      "outputs": []
    },
    {
      "cell_type": "code",
      "metadata": {
        "id": "95sEt0QXkVI9",
        "colab_type": "code",
        "colab": {
          "base_uri": "https://localhost:8080/",
          "height": 1000
        },
        "outputId": "46a7766c-b5ec-48ab-8549-2b995b4e4ef9"
      },
      "source": [
        "history = model.fit(train_padded,train_label_seq,epochs=50,verbose=2,validation_data=(test_padded,test_label_seq))"
      ],
      "execution_count": 28,
      "outputs": [
        {
          "output_type": "stream",
          "text": [
            "Epoch 1/50\n",
            "56/56 - 0s - loss: 1.7508 - accuracy: 0.2213 - val_loss: 1.6976 - val_accuracy: 0.2270\n",
            "Epoch 2/50\n",
            "56/56 - 0s - loss: 1.6603 - accuracy: 0.2303 - val_loss: 1.6224 - val_accuracy: 0.2270\n",
            "Epoch 3/50\n",
            "56/56 - 0s - loss: 1.6173 - accuracy: 0.2303 - val_loss: 1.6041 - val_accuracy: 0.2270\n",
            "Epoch 4/50\n",
            "56/56 - 0s - loss: 1.6086 - accuracy: 0.2174 - val_loss: 1.6039 - val_accuracy: 0.2270\n",
            "Epoch 5/50\n",
            "56/56 - 0s - loss: 1.6021 - accuracy: 0.2438 - val_loss: 1.5961 - val_accuracy: 0.2270\n",
            "Epoch 6/50\n",
            "56/56 - 0s - loss: 1.6001 - accuracy: 0.2343 - val_loss: 1.6013 - val_accuracy: 0.2382\n",
            "Epoch 7/50\n",
            "56/56 - 0s - loss: 1.5995 - accuracy: 0.2404 - val_loss: 1.5928 - val_accuracy: 0.4652\n",
            "Epoch 8/50\n",
            "56/56 - 0s - loss: 1.5963 - accuracy: 0.2388 - val_loss: 1.5894 - val_accuracy: 0.2382\n",
            "Epoch 9/50\n",
            "56/56 - 0s - loss: 1.5916 - accuracy: 0.2433 - val_loss: 1.5865 - val_accuracy: 0.2382\n",
            "Epoch 10/50\n",
            "56/56 - 0s - loss: 1.5870 - accuracy: 0.2410 - val_loss: 1.5831 - val_accuracy: 0.4652\n",
            "Epoch 11/50\n",
            "56/56 - 0s - loss: 1.5795 - accuracy: 0.2635 - val_loss: 1.5715 - val_accuracy: 0.2270\n",
            "Epoch 12/50\n",
            "56/56 - 0s - loss: 1.5726 - accuracy: 0.2921 - val_loss: 1.5616 - val_accuracy: 0.2382\n",
            "Epoch 13/50\n",
            "56/56 - 0s - loss: 1.5605 - accuracy: 0.2635 - val_loss: 1.5509 - val_accuracy: 0.2270\n",
            "Epoch 14/50\n",
            "56/56 - 0s - loss: 1.5441 - accuracy: 0.3702 - val_loss: 1.5282 - val_accuracy: 0.2270\n",
            "Epoch 15/50\n",
            "56/56 - 0s - loss: 1.5193 - accuracy: 0.3388 - val_loss: 1.5014 - val_accuracy: 0.4652\n",
            "Epoch 16/50\n",
            "56/56 - 0s - loss: 1.4826 - accuracy: 0.4882 - val_loss: 1.4584 - val_accuracy: 0.4652\n",
            "Epoch 17/50\n",
            "56/56 - 0s - loss: 1.4277 - accuracy: 0.5809 - val_loss: 1.3920 - val_accuracy: 0.4652\n",
            "Epoch 18/50\n",
            "56/56 - 0s - loss: 1.3528 - accuracy: 0.6371 - val_loss: 1.3117 - val_accuracy: 0.6135\n",
            "Epoch 19/50\n",
            "56/56 - 0s - loss: 1.2466 - accuracy: 0.6545 - val_loss: 1.1913 - val_accuracy: 0.6135\n",
            "Epoch 20/50\n",
            "56/56 - 0s - loss: 1.1181 - accuracy: 0.7371 - val_loss: 1.0611 - val_accuracy: 0.6135\n",
            "Epoch 21/50\n",
            "56/56 - 0s - loss: 0.9915 - accuracy: 0.7978 - val_loss: 0.9361 - val_accuracy: 0.8067\n",
            "Epoch 22/50\n",
            "56/56 - 0s - loss: 0.8643 - accuracy: 0.8230 - val_loss: 0.8124 - val_accuracy: 0.8067\n",
            "Epoch 23/50\n",
            "56/56 - 0s - loss: 0.7436 - accuracy: 0.8230 - val_loss: 0.6924 - val_accuracy: 0.8067\n",
            "Epoch 24/50\n",
            "56/56 - 0s - loss: 0.6307 - accuracy: 0.8230 - val_loss: 0.5886 - val_accuracy: 0.8067\n",
            "Epoch 25/50\n",
            "56/56 - 0s - loss: 0.5319 - accuracy: 0.8230 - val_loss: 0.4972 - val_accuracy: 0.8067\n",
            "Epoch 26/50\n",
            "56/56 - 0s - loss: 0.4517 - accuracy: 0.8230 - val_loss: 0.4273 - val_accuracy: 0.8067\n",
            "Epoch 27/50\n",
            "56/56 - 0s - loss: 0.3902 - accuracy: 0.8292 - val_loss: 0.3773 - val_accuracy: 0.8067\n",
            "Epoch 28/50\n",
            "56/56 - 0s - loss: 0.3418 - accuracy: 0.8393 - val_loss: 0.3312 - val_accuracy: 1.0000\n",
            "Epoch 29/50\n",
            "56/56 - 0s - loss: 0.3004 - accuracy: 0.9938 - val_loss: 0.2895 - val_accuracy: 1.0000\n",
            "Epoch 30/50\n",
            "56/56 - 0s - loss: 0.2640 - accuracy: 1.0000 - val_loss: 0.2499 - val_accuracy: 1.0000\n",
            "Epoch 31/50\n",
            "56/56 - 0s - loss: 0.2238 - accuracy: 1.0000 - val_loss: 0.2114 - val_accuracy: 1.0000\n",
            "Epoch 32/50\n",
            "56/56 - 0s - loss: 0.1858 - accuracy: 1.0000 - val_loss: 0.1755 - val_accuracy: 1.0000\n",
            "Epoch 33/50\n",
            "56/56 - 0s - loss: 0.1512 - accuracy: 1.0000 - val_loss: 0.1378 - val_accuracy: 1.0000\n",
            "Epoch 34/50\n",
            "56/56 - 0s - loss: 0.1220 - accuracy: 1.0000 - val_loss: 0.1101 - val_accuracy: 1.0000\n",
            "Epoch 35/50\n",
            "56/56 - 0s - loss: 0.0974 - accuracy: 1.0000 - val_loss: 0.0904 - val_accuracy: 1.0000\n",
            "Epoch 36/50\n",
            "56/56 - 0s - loss: 0.0775 - accuracy: 1.0000 - val_loss: 0.0710 - val_accuracy: 1.0000\n",
            "Epoch 37/50\n",
            "56/56 - 0s - loss: 0.0626 - accuracy: 1.0000 - val_loss: 0.0584 - val_accuracy: 1.0000\n",
            "Epoch 38/50\n",
            "56/56 - 0s - loss: 0.0514 - accuracy: 1.0000 - val_loss: 0.0480 - val_accuracy: 1.0000\n",
            "Epoch 39/50\n",
            "56/56 - 0s - loss: 0.0426 - accuracy: 1.0000 - val_loss: 0.0401 - val_accuracy: 1.0000\n",
            "Epoch 40/50\n",
            "56/56 - 0s - loss: 0.0359 - accuracy: 1.0000 - val_loss: 0.0336 - val_accuracy: 1.0000\n",
            "Epoch 41/50\n",
            "56/56 - 0s - loss: 0.0304 - accuracy: 1.0000 - val_loss: 0.0286 - val_accuracy: 1.0000\n",
            "Epoch 42/50\n",
            "56/56 - 0s - loss: 0.0261 - accuracy: 1.0000 - val_loss: 0.0248 - val_accuracy: 1.0000\n",
            "Epoch 43/50\n",
            "56/56 - 0s - loss: 0.0226 - accuracy: 1.0000 - val_loss: 0.0215 - val_accuracy: 1.0000\n",
            "Epoch 44/50\n",
            "56/56 - 0s - loss: 0.0198 - accuracy: 1.0000 - val_loss: 0.0190 - val_accuracy: 1.0000\n",
            "Epoch 45/50\n",
            "56/56 - 0s - loss: 0.0174 - accuracy: 1.0000 - val_loss: 0.0169 - val_accuracy: 1.0000\n",
            "Epoch 46/50\n",
            "56/56 - 0s - loss: 0.0153 - accuracy: 1.0000 - val_loss: 0.0147 - val_accuracy: 1.0000\n",
            "Epoch 47/50\n",
            "56/56 - 0s - loss: 0.0136 - accuracy: 1.0000 - val_loss: 0.0131 - val_accuracy: 1.0000\n",
            "Epoch 48/50\n",
            "56/56 - 0s - loss: 0.0122 - accuracy: 1.0000 - val_loss: 0.0118 - val_accuracy: 1.0000\n",
            "Epoch 49/50\n",
            "56/56 - 0s - loss: 0.0109 - accuracy: 1.0000 - val_loss: 0.0106 - val_accuracy: 1.0000\n",
            "Epoch 50/50\n",
            "56/56 - 0s - loss: 0.0099 - accuracy: 1.0000 - val_loss: 0.0096 - val_accuracy: 1.0000\n"
          ],
          "name": "stdout"
        }
      ]
    },
    {
      "cell_type": "code",
      "metadata": {
        "id": "ARVQABSCkqkt",
        "colab_type": "code",
        "colab": {}
      },
      "source": [
        "loss = history.history['loss']\n",
        "val_loss = history.history['val_loss']\n",
        "acc = history.history['accuracy']\n",
        "val_acc = history.history['val_accuracy']\n",
        "\n",
        "epochs = range(len(loss))"
      ],
      "execution_count": 29,
      "outputs": []
    },
    {
      "cell_type": "code",
      "metadata": {
        "id": "snmxFb9ctWk4",
        "colab_type": "code",
        "colab": {
          "base_uri": "https://localhost:8080/",
          "height": 282
        },
        "outputId": "afccd8e1-5725-49f0-e8b6-148cdafc030d"
      },
      "source": [
        "import matplotlib.pyplot as plt\n",
        "plt.plot(epochs,loss)\n",
        "plt.plot(epochs,val_loss)"
      ],
      "execution_count": 30,
      "outputs": [
        {
          "output_type": "execute_result",
          "data": {
            "text/plain": [
              "[<matplotlib.lines.Line2D at 0x7f57254847f0>]"
            ]
          },
          "metadata": {
            "tags": []
          },
          "execution_count": 30
        },
        {
          "output_type": "display_data",
          "data": {
            "image/png": "[encoded data removed]",
            "text/plain": [
              "<Figure size 432x288 with 1 Axes>"
            ]
          },
          "metadata": {
            "tags": [],
            "needs_background": "light"
          }
        }
      ]
    },
    {
      "cell_type": "code",
      "metadata": {
        "id": "pXz2jEuIvl8w",
        "colab_type": "code",
        "colab": {
          "base_uri": "https://localhost:8080/",
          "height": 282
        },
        "outputId": "4a58277b-0232-4357-8289-798ae06886a6"
      },
      "source": [
        "plt.plot(epochs,acc)\n",
        "plt.plot(epochs,val_acc)"
      ],
      "execution_count": 31,
      "outputs": [
        {
          "output_type": "execute_result",
          "data": {
            "text/plain": [
              "[<matplotlib.lines.Line2D at 0x7f5726de1e48>]"
            ]
          },
          "metadata": {
            "tags": []
          },
          "execution_count": 31
        },
        {
          "output_type": "display_data",
          "data": {
            "image/png": "[encoded data removed]",
            "text/plain": [
              "<Figure size 432x288 with 1 Axes>"
            ]
          },
          "metadata": {
            "tags": [],
            "needs_background": "light"
          }
        }
      ]
    },
    {
      "cell_type": "code",
      "metadata": {
        "id": "dTgff4bDvwPV",
        "colab_type": "code",
        "colab": {}
      },
      "source": [
        "my_sentences = ['giving financial gifts to children your child or grandchild may want the latest toy this christmas  but how about giving them a present that will help their financial future   gifts of the financial variety might have a longer lasting impact. it may encourage children to save or start a fund which could count towards university costs  for example.  the government is trying to encourage saving at an early age  through its new child trust fund. the first vouchers  worth £250 or £500 for low-income families  will be distributed from january. all children born after 1st september 2002 will be eligible. parents will need to decide which financial institution will manage this gift in time for the start of the scheme in april 2005.  parents and relatives will be able to top up the fund with up to £1 200 a year  which will grow free of income and capital gains tax. as the child trust fund will not be in force in time for christmas  relatives could invest their gifts in a higher rate children s deposit account  and use this as a feeder fund.  there are accounts designed to start children off in the savings habit and they often pay a higher rate of interest. some of the best instant-access accounts currently available include the ladybird account from the saffron walden building society  paying 5.35% for a minimum balance of £1 and the alliance & leicester firstsaver which pays 5.25%  also starting at £1.  interest earned by children is subject to income tax. however  children  like adults  have a personal income tax allowance (£4 745 for the current tax year).  if the account holds money gifted by friends and relatives - but not parents - any interest earned from the savings account may be set against the allowance. as long as the total amount of interest falls within the allowance  then no tax will be payable. when the account is opened a form  r85   available from the bank or building society  should be completed. this confirms that the account holder is a non-taxpayer and allows interest to be received without the deduction of income tax.  the tax rules are different for parents who save on behalf of a child. only £100 of interest (per parent) can be tax-free. where interest exceeds this level  the whole of the interest will be taxed on the parent. this is to prevent parents from holding their own cash savings in their children s names and taking advantage of the tax allowances. where both parents and other relatives are saving on behalf of a child  consideration should be given to opening separate accounts - one for parents  gifts and one for gifts from other relatives. therefore  it may be preferable for parents to contribute to the child trust fund which is tax free  with any gifts from relatives that take the total above the annual £1 200 limit being directed to a deposit account.  another favourite solution is premium bonds. with the promise of riches far greater than a mere deposit account  they make great presents. the parent or guardian will be responsible for the bonds and will receive notification of the purchase. any prizes will be sent to the parent or child s guardian. the minimum for each purchase is £100 and bonds are sold in multiples of £10.  there are gift opportunities beyond cash accounts and these should not be ignored.  over the longer term  stock market funds have outperformed other types of investment  although in the shorter term they can be volatile. one of the benefits of investing for children is that investment is generally for the longer term - more than ten years - which helps to reduce the risks associated with investing in shares. one way to spread the risk is to invest in the stock market through a unit or investment trust. these are pooled investment funds which give access to a wide range of shares. these funds may be actively managed  where a fund manager picks individual stocks based on a view of their future potential  or passive  where a manager invests in all the shares that comprise a stock market index  for example  the ftse 100. exchange traded funds offer an alternative way to track a stock market. these are single shares that give the return of an underlying index (so are really another form of tracker). the difference is that the charges are quite low. the only drawback with all financial gifts is that the children gain an absolute right to the money at age 18  and parents will have no control over how it is spent. for larger gifts it may be worthwhile taking professional advice on the establishment of a suitable trust that will allow ongoing control over the capital and income.','few ready  for information act thousands of public bodies are ill-prepared for the freedom of information act  due to come into force next month  because of government failures  say mps.  from next month anyone will have the power to demand information from a range of public bodies - from whitehall departments to doctors  surgeries. but an all-party committee said it was  not confident  many would be ready. it blamed the department for constitutional affairs for a  lack of consistent leadership .  the act comes into effect in england  wales and northern ireland  on 1 january while similar measures are being brought in at the same time in scotland. it provides the public with a right of access to information held by about 100 000 public bodies  subject to various exemptions.  but the government department responsible for implementing the change suffered from an  unusually high turnover  of staff within the department  which had  seriously interfered  with its work  said the constitutional affairs select committee. it said  despite four years of preparations  some local authorities and parts of the health sector were still not ready. the dca had  failed  to provide early guidance on technical matters and shown a  lack of consistent leadership   the mps found. committee chairman alan beith said:  the dca has had four years to prepare for freedom of information  but with less than a month to go it appears that some bodies may not be well enough prepared.  our report shows that in the past support and guidance from the dca  which has overall responsibility for guiding the public sector through the process of implementation for the freedom of information regime  has been lacking.  a spokesman for the dca said:  the dca has provided - and will continue to provide - strong  clear leadership.  it has delivered a simple  liberal fees regime  guidance on the act which has been widely praised  and expert networks of staff working on freedom of information implementation.','soros group warns of kazakh close the open society institute (osi)  financed by billionaire george soros  has accused kazakhstan officials of trying to close down its local office.  a demand for unpaid taxes and fines of $600 000 (£425 000) is politically motivated  the osi claimed  adding that it paid the money in october. the organisation has found itself in trouble after being accused of helping to topple georgia s former president. it denies having any role  but offices have had to close across the region.  the osi shut its office in moscow last year and has withdrawn from uzbekistan and belarus. in the ukraine earlier this year  mr soros - who took on the bank of england in the 1990s - and won  was pelted by protestors.  this legal prosecution can be considered an attempt by the government to force soros foundation-kazakhstan to cease its activities in kazakhstan and shut its doors for kazakh citizens and organisations   the osi said.  the osi aims to promote democratic and open  market-based societies. since the break up of the soviet union in 1991  kazakhstan has been dominated by its president nursultan abish-uly nazarbayev. he has powers for life  while insulting the president and officials has been made a criminal offence. the government controls the printing presses and most radio and tv transmission facilities. it operates the country s national radio and tv networks. recent elections were criticised as flawed and the opposition claimed there was widespread vote rigging. supporters  however  say he brings much needed stability to a region where islamic militancy is on the rise. they also credit him with promoting inter-ethnic accord and pushing through harsh reforms.']"
      ],
      "execution_count": 32,
      "outputs": []
    },
    {
      "cell_type": "code",
      "metadata": {
        "id": "WB2x-VLixPxu",
        "colab_type": "code",
        "colab": {}
      },
      "source": [
        "my_sequences = tokenizer.texts_to_sequences(my_sentences)"
      ],
      "execution_count": 33,
      "outputs": []
    },
    {
      "cell_type": "code",
      "metadata": {
        "id": "lhR8FFD9xtVQ",
        "colab_type": "code",
        "colab": {}
      },
      "source": [
        "my_padded = pad_sequences(my_sequences,maxlen=120,padding='post',truncating='post')"
      ],
      "execution_count": 34,
      "outputs": []
    },
    {
      "cell_type": "code",
      "metadata": {
        "id": "LKI2cnHMy2MW",
        "colab_type": "code",
        "colab": {
          "base_uri": "https://localhost:8080/",
          "height": 67
        },
        "outputId": "c3b17626-8c4a-48b1-a885-4d75e9398b41"
      },
      "source": [
        "print(model.predict(my_padded))"
      ],
      "execution_count": 35,
      "outputs": [
        {
          "output_type": "stream",
          "text": [
            "[[0.02124476 0.08665599 0.14178646 0.17188844 0.01528149 0.56314284]\n",
            " [0.02124476 0.08665599 0.14178646 0.17188844 0.01528149 0.56314284]\n",
            " [0.02124476 0.08665599 0.14178646 0.17188844 0.01528149 0.56314284]]\n"
          ],
          "name": "stdout"
        }
      ]
    },
    {
      "cell_type": "code",
      "metadata": {
        "id": "zKVdem_l0TrG",
        "colab_type": "code",
        "colab": {}
      },
      "source": [
        ""
      ],
      "execution_count": null,
      "outputs": []
    }
  ]
}